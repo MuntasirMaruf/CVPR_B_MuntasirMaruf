{
  "nbformat": 4,
  "nbformat_minor": 0,
  "metadata": {
    "colab": {
      "provenance": []
    },
    "kernelspec": {
      "name": "python3",
      "display_name": "Python 3"
    },
    "language_info": {
      "name": "python"
    }
  },
  "cells": [
    {
      "cell_type": "code",
      "execution_count": 1,
      "metadata": {
        "id": "Uj_4LhKfK1og"
      },
      "outputs": [],
      "source": [
        "import numpy as np\n",
        "import matplotlib.pyplot as plt\n",
        "import pandas as pd\n",
        "\n",
        "np.random.seed(0)"
      ]
    },
    {
      "cell_type": "markdown",
      "source": [
        "### Neural Network with three hidden layers"
      ],
      "metadata": {
        "id": "YnmSLaW3sSZv"
      }
    },
    {
      "cell_type": "code",
      "source": [
        "class NeuralNetwork(object):\n",
        "    def __init__(self):\n",
        "        inputLayerNeurons = 5\n",
        "        hiddenLayer1Neurons = 32\n",
        "        hiddenLayer2Neurons = 64\n",
        "        hiddenLayer3Neurons = 32\n",
        "        outputLayerNeurons = 4\n",
        "\n",
        "        self.W_IH1 = np.random.randn(inputLayerNeurons, hiddenLayer1Neurons)\n",
        "        self.W_H12 = np.random.randn(hiddenLayer1Neurons, hiddenLayer2Neurons)\n",
        "        self.W_H23 = np.random.randn(hiddenLayer2Neurons, hiddenLayer3Neurons)\n",
        "        self.W_H3O = np.random.randn(hiddenLayer3Neurons, outputLayerNeurons)\n",
        "        self.learning_rate = 0.05\n",
        "\n",
        "    def sigmoid(self, x, der=False):\n",
        "        if der == True:\n",
        "          return x * (1 - x)\n",
        "        else:\n",
        "          return 1 / (1 + np.exp(-x))\n",
        "\n",
        "    def feedForward(self, X):\n",
        "        hidden1_input = np.dot(X, self.W_IH1)\n",
        "        self.hidden1_output = self.sigmoid(hidden1_input)\n",
        "\n",
        "        hidden2_input = np.dot(self.hidden1_output, self.W_H12)\n",
        "        self.hidden2_output = self.sigmoid(hidden2_input)\n",
        "\n",
        "        hidden3_input = np.dot(self.hidden2_output, self.W_H23)\n",
        "        self.hidden3_output = self.sigmoid(hidden3_input)\n",
        "\n",
        "        output_input = np.dot(self.hidden3_output, self.W_H3O)\n",
        "        pred = self.sigmoid(output_input)\n",
        "\n",
        "        return pred\n",
        "\n",
        "    def backPropagation(self, X, Y, pred):\n",
        "        output_error = Y - pred\n",
        "        output_delta = output_error * self.learning_rate * self.sigmoid(pred, True)\n",
        "\n",
        "        hidden3_error = output_delta.dot(self.W_H3O.T)\n",
        "        hidden3_delta = hidden3_error * self.learning_rate * self.sigmoid(self.hidden3_output, True)\n",
        "\n",
        "        hidden2_error = hidden3_delta.dot(self.W_H23.T)\n",
        "        hidden2_delta = hidden2_error * self.learning_rate * self.sigmoid(self.hidden2_output, True)\n",
        "\n",
        "        hidden1_error = hidden2_delta.dot(self.W_H12.T)\n",
        "        hidden1_delta = hidden1_error * self.learning_rate * self.sigmoid(self.hidden1_output, True)\n",
        "\n",
        "        self.W_H3O += self.hidden3_output.T.dot(output_delta)\n",
        "        self.W_H23 += self.hidden2_output.T.dot(hidden3_delta)\n",
        "        self.W_H12 += self.hidden1_output.T.dot(hidden2_delta)\n",
        "        self.W_IH1 += X.T.dot(hidden1_delta)\n",
        "\n",
        "\n",
        "    def train(self, X, Y):\n",
        "        output = self.feedForward(X)\n",
        "        self.backPropagation(X, Y, output)\n",
        "\n",
        "    def get_output(self, X):\n",
        "        return self.feedForward(X)"
      ],
      "metadata": {
        "id": "luY-tX3bc0gs"
      },
      "execution_count": 2,
      "outputs": []
    },
    {
      "cell_type": "code",
      "source": [
        "try:\n",
        "    df = pd.read_csv('FanSpeedDS.csv')\n",
        "    X = df[['temp', 'cpu', 'memory', 'disk', 'network']].values  # Extract features\n",
        "    Y = df[['fanspeed']].values  # Extract target variable\n",
        "\n",
        "except FileNotFoundError:\n",
        "    print(\"Error: 'data.csv' not found. Please upload the CSV file.\")\n",
        "    exit()  # Exit if the file is not found"
      ],
      "metadata": {
        "id": "ucQ-yQJQfidG"
      },
      "execution_count": 3,
      "outputs": []
    },
    {
      "cell_type": "code",
      "source": [
        "X"
      ],
      "metadata": {
        "colab": {
          "base_uri": "https://localhost:8080/"
        },
        "collapsed": true,
        "id": "NSzuIxRrkcVe",
        "outputId": "eb96b923-d2bd-4840-8c8f-23ca2fc6d1f6"
      },
      "execution_count": 4,
      "outputs": [
        {
          "output_type": "execute_result",
          "data": {
            "text/plain": [
              "array([[88,  8, 81, 40, 38],\n",
              "       [54, 15, 63, 87, 30],\n",
              "       [73, 89, 10, 60, 49],\n",
              "       ...,\n",
              "       [77, 51, 22, 71, 72],\n",
              "       [76, 50, 42, 44, 33],\n",
              "       [68,  3, 28, 59, 55]])"
            ]
          },
          "metadata": {},
          "execution_count": 4
        }
      ]
    },
    {
      "cell_type": "code",
      "source": [
        "NN = NeuralNetwork()\n",
        "\n",
        "err = []\n",
        "for i in range(10000):\n",
        "  NN.train(X, Y)\n",
        "  err.append(np.mean(np.abs(Y - NN.feedForward(X))))\n",
        "plt.plot(err)\n",
        "plt.xlabel(\"Epochs\")\n",
        "plt.ylabel(\"Error\")\n",
        "plt.title(\"Error vs Epochs\")\n",
        "plt.show()"
      ],
      "metadata": {
        "colab": {
          "base_uri": "https://localhost:8080/",
          "height": 472
        },
        "id": "m9z0pCXGnuxb",
        "outputId": "dd7029a2-d852-42a3-e9c5-99e0e145a573"
      },
      "execution_count": 5,
      "outputs": [
        {
          "output_type": "display_data",
          "data": {
            "text/plain": [
              "<Figure size 640x480 with 1 Axes>"
            ],
            "image/png": "[encoded data removed]"
          },
          "metadata": {}
        }
      ]
    }
  ]
}