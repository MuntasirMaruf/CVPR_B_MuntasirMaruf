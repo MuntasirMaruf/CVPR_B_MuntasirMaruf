{
  "nbformat": 4,
  "nbformat_minor": 0,
  "metadata": {
    "colab": {
      "provenance": []
    },
    "kernelspec": {
      "name": "python3",
      "display_name": "Python 3"
    },
    "language_info": {
      "name": "python"
    }
  },
  "cells": [
    {
      "cell_type": "code",
      "execution_count": 5,
      "metadata": {
        "id": "8mMVwgywHTXv"
      },
      "outputs": [],
      "source": [
        "import numpy as np"
      ]
    },
    {
      "cell_type": "code",
      "source": [
        "train_image = np.random.randint(0, 256, size=(10, 10))\n",
        "\n",
        "test_image = np.random.randint(0, 256, size=(10, 10))"
      ],
      "metadata": {
        "id": "kvPw13b-HwUG"
      },
      "execution_count": 6,
      "outputs": []
    },
    {
      "cell_type": "code",
      "source": [
        "print(\"Train Data:\\n\", train_image)\n",
        "print(\"\\nTest Data:\\n\", test_image)"
      ],
      "metadata": {
        "colab": {
          "base_uri": "https://localhost:8080/"
        },
        "id": "EaKMC3BEJFO0",
        "outputId": "ff2bfd43-95e8-4387-81a6-ad0d57fb4ebb"
      },
      "execution_count": 7,
      "outputs": [
        {
          "output_type": "stream",
          "name": "stdout",
          "text": [
            "Train Data:\n",
            " [[137 118 132 105  38 120 212 164  46  81]\n",
            " [ 92  43 106 200 108 201 118  99 177 182]\n",
            " [224 254 155  57 142  33  89 227 146 195]\n",
            " [ 30 225 197  14 249 232 173  10 179  68]\n",
            " [215 101 251 158  73 227 105  45 115 144]\n",
            " [ 92 139 218 191 139 129  80 235 218 239]\n",
            " [121 176 122   7  90 244  58  69 138 238]\n",
            " [ 31 129 219 224 244  27 122 221 243  31]\n",
            " [ 26 175  95 107 217 153 210 211  80 111]\n",
            " [105 124 103 135  74 252 158  39 188  34]]\n",
            "\n",
            "Test Data:\n",
            " [[ 33  94  59 228 102 121 221  55 209 127]\n",
            " [ 37 216  20 132 236 104 173  36 239  95]\n",
            " [ 79 231  47  21 155 203 251 161 236 153]\n",
            " [ 20 254  42  79 177  38 214 203 176 248]\n",
            " [151  85  79 198 172 189  19 194 188 154]\n",
            " [189  73  29  40 114 197  37 183 139   9]\n",
            " [130 248 103  43 245 120 178 101 136 182]\n",
            " [228 203 225 213 174 249 175  49  94  14]\n",
            " [137 117 118 145 192  14 233 233 188 123]\n",
            " [204  25 112 251  63 228 201  24 251 227]]\n"
          ]
        }
      ]
    },
    {
      "cell_type": "code",
      "source": [
        "l1_distance = np.sum(np.abs(test_image - train_image))\n",
        "\n",
        "l2_distance = np.sqrt(np.sum((test_image - train_image) ** 2))\n",
        "\n",
        "print(\"L1 distance:\", l1_distance)\n",
        "print(\"L2 distance:\", l2_distance)"
      ],
      "metadata": {
        "colab": {
          "base_uri": "https://localhost:8080/"
        },
        "id": "WvKpOPe6H3An",
        "outputId": "25fb9632-5358-44c9-bd9e-5513cf71096f"
      },
      "execution_count": 8,
      "outputs": [
        {
          "output_type": "stream",
          "name": "stdout",
          "text": [
            "L1 distance: 7961\n",
            "L2 distance: 991.0353172314294\n"
          ]
        }
      ]
    }
  ]
}